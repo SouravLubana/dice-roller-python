{
 "cells": [
  {
   "cell_type": "code",
   "execution_count": 9,
   "id": "bffb1b25-5f17-4e09-8a41-a48e934383df",
   "metadata": {},
   "outputs": [
    {
     "name": "stdin",
     "output_type": "stream",
     "text": [
      "do you want to roll the dice (y/n) : y\n"
     ]
    },
    {
     "name": "stdout",
     "output_type": "stream",
     "text": [
      "(1,6)\n"
     ]
    },
    {
     "name": "stdin",
     "output_type": "stream",
     "text": [
      "do you want to roll the dice (y/n) : y\n"
     ]
    },
    {
     "name": "stdout",
     "output_type": "stream",
     "text": [
      "(3,6)\n"
     ]
    },
    {
     "name": "stdin",
     "output_type": "stream",
     "text": [
      "do you want to roll the dice (y/n) : n\n"
     ]
    },
    {
     "name": "stdout",
     "output_type": "stream",
     "text": [
      "thankyou\n"
     ]
    }
   ],
   "source": [
    "import random\n",
    "\n",
    "while True:\n",
    "    choice=input(\"do you want to roll the dice (y/n) :\").lower()\n",
    "    if choice=='y':\n",
    "        dice1=random.randint(1,6)\n",
    "        dice2=random.randint(1,6)\n",
    "        print(f\"({dice1},{dice2})\")\n",
    "    elif choice=='n':\n",
    "        print(\"thankyou\")\n",
    "        break\n",
    "    else:\n",
    "        print(\"invalid option\")\n"
   ]
  },
  {
   "cell_type": "code",
   "execution_count": null,
   "id": "df921d04-0c97-4925-8a84-d37542375821",
   "metadata": {},
   "outputs": [],
   "source": []
  }
 ],
 "metadata": {
  "kernelspec": {
   "display_name": "Python 3 (ipykernel)",
   "language": "python",
   "name": "python3"
  },
  "language_info": {
   "codemirror_mode": {
    "name": "ipython",
    "version": 3
   },
   "file_extension": ".py",
   "mimetype": "text/x-python",
   "name": "python",
   "nbconvert_exporter": "python",
   "pygments_lexer": "ipython3",
   "version": "3.12.7"
  }
 },
 "nbformat": 4,
 "nbformat_minor": 5
}
